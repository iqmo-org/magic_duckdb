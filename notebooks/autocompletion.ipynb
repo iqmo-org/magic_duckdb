{
 "cells": [
  {
   "cell_type": "code",
   "execution_count": null,
   "metadata": {},
   "outputs": [],
   "source": [
    "%load_ext autoreload\n",
    "%autoreload 2\n",
    " \n",
    "%load_ext magic_duckdb\n",
    "\n",
    "from magic_duckdb import logging_init\n",
    "\n",
    "logging_init.log_to_file(\"magic_duckdb2.log\")\n"
   ]
  },
  {
   "cell_type": "code",
   "execution_count": null,
   "metadata": {},
   "outputs": [],
   "source": [
    "%dql select sometablename2.my asdasd"
   ]
  },
  {
   "cell_type": "code",
   "execution_count": null,
   "metadata": {},
   "outputs": [],
   "source": [
    "import duckdb \n",
    "from pandas import DataFrame\n",
    "import numpy as np\n",
    "from magic_duckdb import magic\n",
    "from magic_duckdb.autocompletion import DqlCustomCompleter\n",
    "from types import SimpleNamespace\n",
    "con = duckdb.connect()\n",
    "\n",
    "some_tablename = \"tablenamereallylong\"\n",
    "# create some tables\n",
    "simpledf = DataFrame(np.random.randn(10,20))\n",
    "\n",
    "con.sql(f\"CREATE OR REPLACE TABLE {some_tablename} as select * from simpledf\")\n",
    "con.sql(\"create table sometablename2 as select * from range(10) t(my_column_1)\")\n",
    "con.sql(\"create table longtablenameishardtomakeup as select * from range(10) t(d)\")\n",
    "con.sql(\"show tables\").df()\n",
    "\n",
    "# test autocompletion\n",
    "magic.connection = con\n",
    "completer = DqlCustomCompleter(shell=None)\n",
    "\n",
    "# completer finds the table names\n",
    "event = SimpleNamespace(line='%dql s', symbol='s', command='%dql', text_until_cursor='%dql s')\n",
    "results = completer.line_completer(event)\n",
    "#display(results)\n",
    "assert some_tablename in results\n",
    "assert \"SELECT\"  in results\n",
    "\n",
    "event = SimpleNamespace(line='%dql s', symbol='s', command='%dql', text_until_cursor='%dql select * from')\n",
    "results = completer.line_completer(event)\n",
    "assert some_tablename in results\n",
    "assert \"SELECT\" not in results\n",
    "\n",
    "# Tablename doesn't exist\n",
    "event = SimpleNamespace(line='%dql s', symbol='s', command='%dql', text_until_cursor='%dql select blah.')\n",
    "results = completer.line_completer(event)\n",
    "assert len(results) == 0\n",
    "\n",
    "\n",
    "event = SimpleNamespace(line='%dql tablenamereallylong.', symbol='tablenamereallylong.', command='%dql', text_until_cursor='%dql  tablenamereallylong.')\n",
    "results = completer.line_completer(event)\n",
    "assert \"19\" in results\n",
    "\n",
    "event = SimpleNamespace(line='%dql select tablenamereallylong. from tablenamereallylong', symbol='tablenamereallylong.', command='%dql', text_until_cursor='%dql select sometablename2.')\n",
    "results = completer.line_completer(event)\n",
    "assert \"my_column_1\" in results\n",
    "\n",
    "event = SimpleNamespace(line='%dql s', symbol='s', command='%dql', text_until_cursor=f'%dql select {some_tablename}.')\n",
    "results = completer.line_completer(event)\n",
    "assert \"19\" in results\n",
    "# Tablename doesn't exist\n",
    "\n"
   ]
  },
  {
   "cell_type": "code",
   "execution_count": null,
   "metadata": {},
   "outputs": [],
   "source": [
    "# Test using IPCompleter\n",
    "# This uses the full IPCompleter stack, so is more realistic in terms of results\n",
    "\n",
    "from IPython.core.getipython import get_ipython\n",
    "\n",
    "ip = get_ipython()\n",
    "event = SimpleNamespace(line='%dql get_ipython', symbol='g', command='%dql get_ipython', text_until_cursor=f'%dql get_ipython', cursor_pos=6)\n",
    "\n",
    "r = ip.Completer.complete(line_buffer=\"%dql crea\")\n",
    "assert \"CREATE TABLE\" in r[1]\n",
    "\n",
    "r = ip.Completer.complete(line_buffer=\"%dql sometablename2.\")\n",
    "display( r[1])\n",
    "\n"
   ]
  },
  {
   "cell_type": "code",
   "execution_count": null,
   "metadata": {},
   "outputs": [],
   "source": [
    "%dql select * from some_tablename."
   ]
  },
  {
   "cell_type": "code",
   "execution_count": null,
   "metadata": {},
   "outputs": [],
   "source": []
  },
  {
   "cell_type": "code",
   "execution_count": null,
   "metadata": {},
   "outputs": [],
   "source": [
    "import re\n",
    "\n",
    "pragma_before = re.compile(r\"(?si).*pragma\\s*\")\n",
    "\n",
    "pragma_before.match(\" pragma \") is not None\n",
    "\n",
    "from magic_duckdb import magic as m\n",
    "\n",
    "print(m.last_obj)\n",
    "\n"
   ]
  },
  {
   "cell_type": "code",
   "execution_count": null,
   "metadata": {},
   "outputs": [],
   "source": [
    "import re \n",
    "lastword = re.compile(r\"(?si)((.*\\s)|(^))(\\S+)\\s+.*\")\n",
    "\n",
    "lastword.match(\"select asdasd\").group(4)\n"
   ]
  }
 ],
 "metadata": {
  "kernelspec": {
   "display_name": "pandas2python3.11",
   "language": "python",
   "name": "python3"
  },
  "language_info": {
   "codemirror_mode": {
    "name": "ipython",
    "version": 3
   },
   "file_extension": ".py",
   "mimetype": "text/x-python",
   "name": "python",
   "nbconvert_exporter": "python",
   "pygments_lexer": "ipython3",
   "version": "3.11.0"
  }
 },
 "nbformat": 4,
 "nbformat_minor": 2
}
