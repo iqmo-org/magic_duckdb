{
 "cells": [
  {
   "cell_type": "code",
   "execution_count": null,
   "metadata": {},
   "outputs": [],
   "source": [
    "%load_ext magic_duckdb\n"
   ]
  },
  {
   "cell_type": "code",
   "execution_count": null,
   "metadata": {},
   "outputs": [],
   "source": [
    "%%dql -t show -tp max_rows 5 -tp null_value foo -tp max_col_width 10\n",
    "\n",
    "-- Example: Passing parameters to show\n",
    "\n",
    "-- https://duckdb.org/docs/api/python/reference/#duckdb.DuckDBPyRelation.show\n",
    "\n",
    "select 'asdasdasdasdasdasdasdasdasdasdasdasdasdasdasdasdasdasd', 'asdasdasdasdasdasdasdasdasdasdasdasdasdasdasdasdasdasd', 'asdasdasdasdasdasdasdasdasdasdasdasdasdasdasdasdasdasd', null as nullvalue, * from range(10)"
   ]
  },
  {
   "cell_type": "code",
   "execution_count": null,
   "metadata": {},
   "outputs": [],
   "source": [
    "# Set global settings\n",
    "%dql -t show -tp max_rows 5 -tp null_value foo -tp max_col_width 5\n",
    "\n",
    "%dql -t show select 'asdasdasdasdasdasdasdasdasdasdasdasdasdasdasdasdasdasd', 'asdasdasdasdasdasdasdasdasdasdasdasdasdasdasdasdasdasd', 'asdasdasdasdasdasdasdasdasdasdasdasdasdasdasdasdasdasd', null as nullvalue, * from range(10)"
   ]
  },
  {
   "cell_type": "code",
   "execution_count": null,
   "metadata": {},
   "outputs": [],
   "source": [
    "# For comparison, example of Show Parameters without DQL\n",
    "import duckdb\n",
    "\n",
    "r = duckdb.sql(\"select 'asdasdasdasdasdasdasdasdasdasdasdasdasdasdasdasdasdasd', 'asdasdasdasdasdasdasdasdasdasdasdasdasdasdasdasdasdasd', 'asdasdasdasdasdasdasdasdasdasdasdasdasdasdasdasdasdasd', null as nullvalue, * from range(10)\")\n",
    "r.show(max_rows = 5, max_col_width = 5, null_value = \"foo\")\n"
   ]
  }
 ],
 "metadata": {
  "kernelspec": {
   "display_name": "m11",
   "language": "python",
   "name": "python3"
  },
  "language_info": {
   "codemirror_mode": {
    "name": "ipython",
    "version": 3
   },
   "file_extension": ".py",
   "mimetype": "text/x-python",
   "name": "python",
   "nbconvert_exporter": "python",
   "pygments_lexer": "ipython3",
   "version": "3.11.8"
  }
 },
 "nbformat": 4,
 "nbformat_minor": 2
}
