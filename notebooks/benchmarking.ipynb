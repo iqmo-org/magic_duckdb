{
 "cells": [
  {
   "cell_type": "code",
   "execution_count": null,
   "metadata": {},
   "outputs": [],
   "source": [
    "# Compare magic_duckdb against baseline (DuckDB) and other implementations\n",
    "#\n",
    "# Create a semi-large dataframe\n",
    "\n",
    "import sys\n",
    "\n",
    "import duckdb\n",
    "import numpy as np\n",
    "import pandas as pd\n",
    "from pandas import DataFrame\n",
    "\n",
    "import magic_duckdb\n",
    "\n",
    "# %pip install jupysql duckdb_engine\n",
    "%load_ext sql\n",
    "%load_ext magic_duckdb\n"
   ]
  },
  {
   "cell_type": "code",
   "execution_count": null,
   "metadata": {},
   "outputs": [],
   "source": [
    "\n",
    "# First test is Pandas. The -t df is not needed, since Pandas is the default.\n",
    "\n",
    "def print_versions():\n",
    "    print(\"Python: \", sys. version) \n",
    "    print(\"DuckDB: \", duckdb.execute(\"pragma version\").df())\n",
    "    print(\"magic_duckdb: \",  magic_duckdb.__version__)\n",
    "    print(\"Pandas :\", pd.__version__)\n",
    "\n",
    "def test_duckdb_execute_df():\n",
    "    display(\"DuckDB: Execute DF\")\n",
    "    with duckdb.connect() as con:\n",
    "        timing = %timeit -o con.execute(\"select * from simpledf\").df()\n",
    "        timings.append((\"test_duckdb_execute_df\", n, timing))\n",
    "\n",
    "def test_duckdb_execute_arrow():\n",
    "    display(\"DuckDB: Execute Arrow\")\n",
    "    with duckdb.connect() as con:\n",
    "        timing = %timeit -o con.execute(\"select * from simpledf\").arrow()\n",
    "        timings.append((\"test_duckdb_execute_arrow\", n, timing))\n",
    "\n",
    "def test_duckdb_sql_df():\n",
    "    display(\"DuckDB: SQL DF\")\n",
    "    import duckdb\n",
    "    with duckdb.connect() as con:\n",
    "        timing = %timeit -o con.sql(\"select * from simpledf\").df()\n",
    "        timings.append((\"test_duckdb_sql_df\", n, timing))\n",
    "\n",
    "def test_magicddb_pandas():\n",
    "    display(\"magic_duckdb: pandas\")\n",
    "    %dql -t df\n",
    "    timing = %timeit -o %dql select * from simpledf\n",
    "    timings.append((\"test_magicddb_pandas\", n, timing))\n",
    "\n",
    "def test_magicddb_arrow():\n",
    "    display(\"magic_duckdb: arrow\")\n",
    "    %dql -t arrow\n",
    "    timing = %timeit -o %dql select * from simpledf\n",
    "    timings.append((\"test_magicddb_arrow\", n, timing))\n",
    "\n",
    "def test_jupysql():\n",
    "    display(\"jupysql, duckdb_engine, sql_alchemy\")\n",
    "    %sql duckdb:///:memory:\n",
    "    %config SqlMagic.autopandas = True\n",
    "    timing = %timeit -o %sql select * from simpledf\n",
    "    timings.append((\"test_jupysql\", n, timing))\n",
    "\n"
   ]
  },
  {
   "cell_type": "code",
   "execution_count": null,
   "metadata": {},
   "outputs": [],
   "source": [
    "print_versions()\n",
    "timings = []\n",
    "\n",
    "numcols = 20\n",
    "for n in [1, 1000, 1000000]:\n",
    "    print(f\"n={n}\")\n",
    "    simpledf = DataFrame(np.random.randn(n, numcols ))\n",
    "    test_duckdb_execute_df()\n",
    "    test_duckdb_execute_arrow()\n",
    "    test_duckdb_sql_df()\n",
    "    test_magicddb_pandas()\n",
    "    test_magicddb_arrow()\n",
    "    test_jupysql()\n"
   ]
  },
  {
   "cell_type": "code",
   "execution_count": null,
   "metadata": {},
   "outputs": [],
   "source": [
    "\n",
    "with open('timings2.csv', 'w') as file:\n",
    "    for r, n, tir in timings:\n",
    "        original_stdout = sys.stdout\n",
    "        sys.stdout = file\n",
    "        print(r, ',', n, ',', str(tir).replace(\",\", \".\"))\n",
    "        sys.stdout = original_stdout\n"
   ]
  },
  {
   "cell_type": "code",
   "execution_count": null,
   "metadata": {},
   "outputs": [],
   "source": [
    "duckdb.execute(\"with data as (select *, trim(split_part(column2, ' ms', 1))::float as t from 'timings2.csv' order by column1, t asc) pivot data on column1 using last(t) group by column0\").df()"
   ]
  }
 ],
 "metadata": {
  "kernelspec": {
   "display_name": ".venv",
   "language": "python",
   "name": "python3"
  },
  "language_info": {
   "codemirror_mode": {
    "name": "ipython",
    "version": 3
   },
   "file_extension": ".py",
   "mimetype": "text/x-python",
   "name": "python",
   "nbconvert_exporter": "python",
   "pygments_lexer": "ipython3",
   "version": "3.12.9"
  }
 },
 "nbformat": 4,
 "nbformat_minor": 2
}
