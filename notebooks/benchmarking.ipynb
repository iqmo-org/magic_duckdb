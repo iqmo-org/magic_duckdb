{
 "cells": [
  {
   "cell_type": "code",
   "execution_count": null,
   "metadata": {},
   "outputs": [],
   "source": [
    "# Compare magic_duckdb against baseline (DuckDB) and other implementations\n",
    "#\n",
    "# Create a semi-large dataframe\n",
    "\n",
    "from pandas import DataFrame\n",
    "import numpy as np\n",
    "\n",
    "num_rows = 1000000\n",
    "\n",
    "simpledf = DataFrame(np.random.randn(num_rows,20))"
   ]
  },
  {
   "cell_type": "code",
   "execution_count": null,
   "metadata": {},
   "outputs": [],
   "source": [
    "# DuckDB\n",
    "\n",
    "display(\"Native duckdb\")\n",
    "import duckdb\n",
    "with duckdb.connect() as con:\n",
    "    %timeit con.sql(\"select * from simpledf\").df()"
   ]
  },
  {
   "cell_type": "code",
   "execution_count": null,
   "metadata": {},
   "outputs": [],
   "source": [
    "%load_ext magic_duckdb\n",
    "\n",
    "display(\"magic_duckdb: pandas\")\n",
    "\n",
    "# First test is Pandas. The -t df is not needed, since Pandas is the default.\n",
    "%dql -t df\n",
    "%timeit odf = %dql select * from simpledf\n",
    "\n",
    "display(\"magic_duckdb: arrow\")\n",
    "%dql -t arrow\n",
    "%timeit %dql select * from simpledf\n"
   ]
  },
  {
   "cell_type": "code",
   "execution_count": null,
   "metadata": {},
   "outputs": [],
   "source": [
    "display(\"jupysql, duckdb_engine, sql_alchemy\")\n",
    "\n",
    "%load_ext sql\n",
    "%sql duckdb:///:memory:\n",
    "%config SqlMagic.autopandas = True\n",
    "%timeit %sql select * from simpledf\n"
   ]
  }
 ],
 "metadata": {
  "kernelspec": {
   "display_name": "pandas2python3.11",
   "language": "python",
   "name": "python3"
  },
  "language_info": {
   "codemirror_mode": {
    "name": "ipython",
    "version": 3
   },
   "file_extension": ".py",
   "mimetype": "text/x-python",
   "name": "python",
   "nbconvert_exporter": "python",
   "pygments_lexer": "ipython3",
   "version": "3.9.16"
  }
 },
 "nbformat": 4,
 "nbformat_minor": 2
}
