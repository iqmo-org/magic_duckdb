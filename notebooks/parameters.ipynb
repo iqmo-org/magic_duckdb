{
 "cells": [
  {
   "cell_type": "code",
   "execution_count": null,
   "metadata": {},
   "outputs": [],
   "source": [
    "%load_ext magic_duckdb"
   ]
  },
  {
   "cell_type": "code",
   "execution_count": null,
   "metadata": {},
   "outputs": [],
   "source": [
    "# Demonstrate creating a connection explicitly, and passing it explicitly to the dql connection\n",
    "# in this example case, the following lines aren't needed, since dql by default will use the duckdb default connection\n",
    "import duckdb\n",
    "con = duckdb.connect()\n",
    "%dql -co con"
   ]
  },
  {
   "cell_type": "code",
   "execution_count": null,
   "metadata": {},
   "outputs": [],
   "source": [
    "%%dql\n",
    "\n",
    "create table mytable as (select thing from range(100) t(thing))"
   ]
  },
  {
   "cell_type": "code",
   "execution_count": null,
   "metadata": {},
   "outputs": [],
   "source": [
    "# Pass parameters\n",
    "\n",
    "lower_threshold = 10\n",
    "upper_threshold = 20\n",
    "\n",
    "# Pass two parameters\n",
    "%dql -p lower_threshold -p upper_threshold select * from mytable where thing between ? and ?"
   ]
  },
  {
   "cell_type": "code",
   "execution_count": null,
   "metadata": {},
   "outputs": [],
   "source": [
    "%%dql -p lower_threshold -p upper_threshold\n",
    "-- As a cell magic, pass two parameters\n",
    "\n",
    "SELECT\n",
    "  *\n",
    "FROM\n",
    "  mytable\n",
    "WHERE\n",
    "  thing BETWEEN ? AND?"
   ]
  },
  {
   "cell_type": "code",
   "execution_count": null,
   "metadata": {},
   "outputs": [],
   "source": [
    "# Jinja Substitution, using line magics\n",
    "\n",
    "table1 = \"mytableisawesome\"\n",
    "%dql -t df --jinja2 create or replace table {{table1}} as select * from range(10, 30, 3)\n",
    "%dql -j select * from {{table1}}"
   ]
  },
  {
   "cell_type": "code",
   "execution_count": null,
   "metadata": {},
   "outputs": [],
   "source": [
    "%%dql -j\n",
    "-- Jinja Substitution in a cell magic\n",
    "\n",
    "create or replace table {{table1}} as select * from range(10, 30, 3);\n",
    "\n",
    "select * from {{table1}}"
   ]
  },
  {
   "cell_type": "code",
   "execution_count": null,
   "metadata": {},
   "outputs": [],
   "source": [
    "%%dql -j -p upper_threshold\n",
    "-- Example combining jinja template (for table name) and parameters\n",
    "\n",
    "create or replace table {{table1}} as select * from range(10, 30, 3) t(r);\n",
    "\n",
    "select * from {{table1}} where r < ?\n",
    ";\n"
   ]
  }
 ],
 "metadata": {
  "kernelspec": {
   "display_name": ".venv",
   "language": "python",
   "name": "python3"
  },
  "language_info": {
   "codemirror_mode": {
    "name": "ipython",
    "version": 3
   },
   "file_extension": ".py",
   "mimetype": "text/x-python",
   "name": "python",
   "nbconvert_exporter": "python",
   "pygments_lexer": "ipython3",
   "version": "3.12.9"
  }
 },
 "nbformat": 4,
 "nbformat_minor": 2
}
