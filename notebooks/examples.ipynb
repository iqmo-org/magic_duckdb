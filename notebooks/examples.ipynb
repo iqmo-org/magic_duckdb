{
 "cells": [
  {
   "cell_type": "code",
   "execution_count": null,
   "metadata": {},
   "outputs": [],
   "source": [
    "%load_ext autoreload\n",
    "%autoreload 2\n",
    "\n",
    "#%pip install magic_duckdb --upgrade --pre --quiet\n",
    "%load_ext magic_duckdb\n",
    "\n",
    "%dql -t show pragma version\n",
    "\n",
    "types = %dql --listtypes\n",
    "print(types)"
   ]
  },
  {
   "cell_type": "code",
   "execution_count": null,
   "metadata": {},
   "outputs": [],
   "source": [
    "# List available functions\n",
    "%dql -d\n",
    "\n",
    "%dql -t show pragma version "
   ]
  },
  {
   "cell_type": "code",
   "execution_count": null,
   "metadata": {},
   "outputs": [],
   "source": [
    "# Line magic with PyArrow\n",
    "%dql -t arrow\n",
    "\n",
    "%dql CREATE OR REPLACE TABLE xyz as SELECT * FROM range(100) t(x)\n",
    "\n",
    "table1 = %dql SELECT * FROM xyz where x>50\n",
    "\n",
    "display(table1)"
   ]
  },
  {
   "cell_type": "code",
   "execution_count": null,
   "metadata": {},
   "outputs": [],
   "source": [
    "# List tables used by a query\n",
    "%dql --tables with abc as (select * from def) select * from abc, tbl1, tbl3\n"
   ]
  },
  {
   "cell_type": "code",
   "execution_count": null,
   "metadata": {},
   "outputs": [],
   "source": [
    "# Line magic with Pandas DataFrame\n",
    "%dql -t df\n",
    "%dql CREATE OR REPLACE TABLE xyz as SELECT * FROM range(100) t(x)\n",
    "\n",
    "df1 = %dql SELECT * FROM xyz where x>50\n",
    "\n",
    "display(len(df1))"
   ]
  },
  {
   "cell_type": "code",
   "execution_count": null,
   "metadata": {},
   "outputs": [],
   "source": [
    "%%dql\n",
    "\n",
    "CREATE OR REPLACE TABLE abc as SELECT * FROM range(200) c(a) where a % 7 == 0;\n",
    "CREATE OR REPLACE TABLE def as SELECT * FROM range(200) c(a) where a % 2 == 0;\n",
    "\n",
    "SELECT count(*) FROM def join abc on def.a=abc.a;"
   ]
  },
  {
   "cell_type": "code",
   "execution_count": null,
   "metadata": {},
   "outputs": [],
   "source": [
    "# Get the connection created within DQL and use it directly\n",
    "con = %dql --getcon\n",
    "display(con.sql(\"pragma version\").df())"
   ]
  },
  {
   "cell_type": "code",
   "execution_count": null,
   "metadata": {},
   "outputs": [],
   "source": [
    "# Use an externally created connection\n",
    "import duckdb\n",
    "\n",
    "dql_test_con = duckdb.connect(\"testdbfile6.db\")\n",
    "dql_test_con.sql(\"CREATE OR REPLACE TABLE xyz as select * from range(100)\")\n",
    "\n",
    "# -co sets the connection to an existing object\n",
    "%dql -co dql_test_con\n",
    "%dql select count(*) from xyz"
   ]
  },
  {
   "cell_type": "code",
   "execution_count": null,
   "metadata": {},
   "outputs": [],
   "source": [
    "# Pass a connection string via dql -cn\n",
    "%dql -cn testdbfile6.db\n",
    "%dql create or replace table xyz as select * from range(1);select count(*) from xyz"
   ]
  },
  {
   "cell_type": "code",
   "execution_count": null,
   "metadata": {},
   "outputs": [],
   "source": [
    "# Pass a connection string via dql -cn, in this case, :memory: which is the same as using the -d default connection\n",
    "%dql -cn :memory:\n",
    "%dql pragma version"
   ]
  },
  {
   "cell_type": "code",
   "execution_count": null,
   "metadata": {},
   "outputs": [],
   "source": [
    "# Combining DQL and a relationship\n",
    "\n",
    "%dql -t relation\n",
    "r = %dql select * from (select * from range(105) t(x)) join (select * from range(10)) on true\n",
    "r.filter('x > 60').show()"
   ]
  },
  {
   "cell_type": "code",
   "execution_count": null,
   "metadata": {},
   "outputs": [],
   "source": [
    "%%dql -t arrow\n",
    "-- Cell Magic with a different output format Option\n",
    "select * from (select * from range(105) t(x)) join (select * from range(10)) on true\n"
   ]
  },
  {
   "cell_type": "code",
   "execution_count": null,
   "metadata": {},
   "outputs": [],
   "source": [
    "%dql -t show select * from (select * from range(105) t(x)) join (select * from range(10)) on true\n"
   ]
  },
  {
   "cell_type": "code",
   "execution_count": null,
   "metadata": {},
   "outputs": [],
   "source": [
    "# Get the last variable. This is one way to get the output of a cell and line magic. Another way is: obj = %dql ... \n",
    "r = _\n",
    "print(r)"
   ]
  },
  {
   "cell_type": "code",
   "execution_count": null,
   "metadata": {},
   "outputs": [],
   "source": [
    "# Miscellaneous examples\n",
    "\n",
    "# Set the default_connection\n",
    "duckdb.default_connection = duckdb.connect(\":memory:\") \n",
    "# DQL will use the default connection. \n",
    "%dql -d  \n",
    "# returns the dql connection object\n",
    "con = %dql --getcon \n",
    "%dql -t df\n",
    "# stores result of pragma version in object named myversion\n",
    "%dql -o myversion pragma version \n",
    "display(myversion)"
   ]
  },
  {
   "cell_type": "code",
   "execution_count": null,
   "metadata": {},
   "outputs": [],
   "source": [
    "# Jinja Template\n",
    "# define a var, use -r to replace the variables inside the magic, then confirm it worked\n",
    "\n",
    "table1 = \"mytableisawesome\"\n",
    "%dql -t df --jinja2 create or replace table {{table1}} as select * from range(100)\n",
    "%dql select * from mytableisawesome\n"
   ]
  },
  {
   "cell_type": "code",
   "execution_count": null,
   "metadata": {},
   "outputs": [],
   "source": [
    "# List tables\n",
    "\n",
    "table1 = \"mytableisawesome\"\n",
    "%dql -t df --jinja2 create or replace table {{table1}} as select * from range(100)\n",
    "%dql select * from mytableisawesome"
   ]
  },
  {
   "cell_type": "code",
   "execution_count": null,
   "metadata": {},
   "outputs": [],
   "source": [
    "# Pass parameter\n",
    "\n",
    "obj1 = [1,2,3]\n",
    "r1 = %dql -p obj1 select ?\n",
    "display(r1)\n",
    "\n",
    "obj1 = [1,2,3]\n",
    "r2 = %dql -p obj1 select 2 in (select unnest(?))\n",
    "display(r2)\n",
    "\n",
    "# Passing two parameters\n",
    "obj1 = [1,2,3]\n",
    "obj2 = \"b\"\n",
    "r3 = %dql -p obj1 -p obj2 select 2 in (select unnest(?)), 'abc' = ?\n",
    "display(r3)\n",
    "\n",
    "# Passing two parameters plus jinja template\n",
    "obj1 = [1,2,3]\n",
    "obj2 = \"b\"\n",
    "obj3 = \"this will be passed through jinja2 template\"\n",
    "r4 = %dql -p obj1 -p obj2 --jinja2 select 2 in (select unnest(?)), 'abc' = ?, '{{obj3}}'\n",
    "display(r4)\n"
   ]
  },
  {
   "cell_type": "code",
   "execution_count": null,
   "metadata": {},
   "outputs": [],
   "source": [
    "# Demonstrate connection configuration \n",
    "\n",
    "print('Connect via duckdb.default_connection() and run this query')\n",
    "q1 = %dql -d PRAGMA database_list\n",
    "display(q1)\n",
    "\n",
    "print('Connect via duckdb.connect(\"somedb.db\") and run this query')\n",
    "q2 = %dql -cn somedb.db PRAGMA database_list\n",
    "display(q2)\n",
    "\n",
    "print('Run this query with whatever the global magic_duckdb connection is, which defaults to duckdb.default_connection()')\n",
    "q3 = %dql PRAGMA database_list\n",
    "display(q3)\n",
    "\n",
    "print('Connect via duckdb.connect(\"somedb2.db\") and set as global magic_duckdb.connection')\n",
    "q4 = %dql -cn somedb2.db\n",
    "\n",
    "print('Run a query, using the global magic_duckdb.connection')\n",
    "q5 = %dql PRAGMA database_list\n",
    "display(q5)\n"
   ]
  }
 ],
 "metadata": {
  "kernelspec": {
   "display_name": "pandas2python3.11",
   "language": "python",
   "name": "python3"
  },
  "language_info": {
   "codemirror_mode": {
    "name": "ipython",
    "version": 3
   },
   "file_extension": ".py",
   "mimetype": "text/x-python",
   "name": "python",
   "nbconvert_exporter": "python",
   "pygments_lexer": "ipython3",
   "version": "3.9.16"
  }
 },
 "nbformat": 4,
 "nbformat_minor": 2
}
