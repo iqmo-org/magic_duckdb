{
 "cells": [
  {
   "cell_type": "code",
   "execution_count": null,
   "metadata": {},
   "outputs": [],
   "source": [
    "#%load_ext autoreload\n",
    "#%autoreload 2\n",
    "\n",
    "%pip install magic_duckdb\n",
    "%load_ext magic_duckdb\n"
   ]
  },
  {
   "cell_type": "code",
   "execution_count": null,
   "metadata": {},
   "outputs": [],
   "source": [
    "# List available functions\n",
    "r = %dql --listtypes\n",
    "print(r)"
   ]
  },
  {
   "cell_type": "code",
   "execution_count": null,
   "metadata": {},
   "outputs": [],
   "source": [
    "# Line magic with PyArrow\n",
    "%dql -t arrow\n",
    "\n",
    "%dql CREATE OR REPLACE TABLE xyz as SELECT * FROM range(100) t(x)\n",
    "\n",
    "table1 = %dql SELECT * FROM xyz where x>50\n",
    "\n",
    "display(table1)"
   ]
  },
  {
   "cell_type": "code",
   "execution_count": null,
   "metadata": {},
   "outputs": [],
   "source": [
    "# Line magic with Pandas DataFrame\n",
    "%dql -t df\n",
    "%dql CREATE OR REPLACE TABLE xyz as SELECT * FROM range(100) t(x)\n",
    "\n",
    "df1 = %dql SELECT * FROM xyz where x>50\n",
    "\n",
    "display(len(df1))"
   ]
  },
  {
   "cell_type": "code",
   "execution_count": null,
   "metadata": {},
   "outputs": [],
   "source": [
    "%%dql\n",
    "\n",
    "CREATE OR REPLACE TABLE abc as SELECT * FROM range(200) c(a) where a % 7 == 0;\n",
    "CREATE OR REPLACE TABLE def as SELECT * FROM range(200) c(a) where a % 2 == 0;\n",
    "\n",
    "SELECT count(*) FROM def join abc on def.a=abc.a;"
   ]
  },
  {
   "cell_type": "code",
   "execution_count": null,
   "metadata": {},
   "outputs": [],
   "source": [
    "# Get the connection created within DQL and use it directly\n",
    "con = %dql --getcon\n",
    "display(con.sql(\"pragma version\").df())"
   ]
  },
  {
   "cell_type": "code",
   "execution_count": null,
   "metadata": {},
   "outputs": [],
   "source": [
    "# Use an externally created connection\n",
    "import duckdb\n",
    "\n",
    "dql_test_con = duckdb.connect(\"file1919.db\")\n",
    "dql_test_con.sql(\"CREATE OR REPLACE TABLE xyz as select * from range(100)\")\n",
    "\n",
    "# -co sets the connection to an existing object\n",
    "%dql -co dql_test_con\n",
    "%dql select count(*) from xyz"
   ]
  },
  {
   "cell_type": "code",
   "execution_count": null,
   "metadata": {},
   "outputs": [],
   "source": [
    "# Pass a connection string via dql -cn\n",
    "%dql -cn file19192.db\n",
    "%dql create or replace table xyz as select * from range(1);select count(*) from xyz"
   ]
  },
  {
   "cell_type": "code",
   "execution_count": null,
   "metadata": {},
   "outputs": [],
   "source": [
    "# Pass a connection string via dql -cn, in this case, :memory: which is the same as using the -d default connection\n",
    "%dql -cn :memory:\n",
    "%dql pragma version"
   ]
  },
  {
   "cell_type": "code",
   "execution_count": null,
   "metadata": {},
   "outputs": [],
   "source": [
    "# Combining DQL and a relationship\n",
    "\n",
    "%dql -t relation\n",
    "r = %dql select * from (select * from range(105) t(x)) join (select * from range(10)) on true\n",
    "r.filter('x > 60').show()"
   ]
  },
  {
   "cell_type": "code",
   "execution_count": null,
   "metadata": {},
   "outputs": [],
   "source": [
    "# Simple Explain\n",
    "\n",
    "%dql -t explain\n",
    "r = %dql select * from (select * from range(105) t(x)) join (select * from range(10)) on true\n",
    "print(r)"
   ]
  },
  {
   "cell_type": "code",
   "execution_count": null,
   "metadata": {},
   "outputs": [],
   "source": [
    "%%dql -t df \n",
    "-- Cell Magic with an Option\n",
    "select * from (select * from range(105) t(x)) join (select * from range(10)) on true\n"
   ]
  },
  {
   "cell_type": "code",
   "execution_count": null,
   "metadata": {},
   "outputs": [],
   "source": [
    "%dql -t df select * from (select * from range(105) t(x)) join (select * from range(10)) on true\n",
    "# Line Magic with an Option\n"
   ]
  },
  {
   "cell_type": "code",
   "execution_count": null,
   "metadata": {},
   "outputs": [],
   "source": [
    "# Get the last variable. This is one way to get the output of a cell and line magic. Another way is: obj = %dql ... \n",
    "r = _\n",
    "print(r)"
   ]
  },
  {
   "cell_type": "code",
   "execution_count": null,
   "metadata": {},
   "outputs": [],
   "source": [
    "# Draw the Explain Analyze\n",
    "\n",
    "# If not in PATH, set the location of dot or dot.exe:\n",
    "# import magic_duckdb\n",
    "# magic_duckdb.explain_analyze_graphviz.dot_path= \"c:\\\\Program files\\\\graphviz\\\\bin\\\\dot.exe\"\n",
    "\n",
    "%dql -t explain_analyze_draw\n",
    "\n",
    "r = %dql select * from (select * from range(105) t(x)) join (select * from range(10)) on true\n",
    "\n",
    "r\n",
    "# uncomment to see raw json: print(r)\n",
    "\n",
    "# Optional, change graphviz output to PNG. SVG is the default.\n",
    "# import graphviz\n",
    "# graphviz.set_jupyter_format('png')\n",
    "\n"
   ]
  },
  {
   "cell_type": "code",
   "execution_count": null,
   "metadata": {},
   "outputs": [],
   "source": [
    "%dql -t explain_analyze_draw\n",
    "\n",
    "con = %dql --getcon\n",
    "\n",
    "duckdb.default_connection = duckdb.connect(\":memory:\")\n",
    "%dql -d"
   ]
  },
  {
   "cell_type": "code",
   "execution_count": null,
   "metadata": {},
   "outputs": [],
   "source": [
    "# Experimental SQL Formatting using https://github.com/sql-formatter-org/sql-formatter. \n",
    "# To use this feature, first run: \n",
    "# npm install sql-formatter\n",
    "# Executes \"npx sql-formatter\" via popen\n",
    "\n",
    "%dql -t format select * from blah\n"
   ]
  }
 ],
 "metadata": {
  "kernelspec": {
   "display_name": "pandas2python3.11",
   "language": "python",
   "name": "python3"
  },
  "language_info": {
   "codemirror_mode": {
    "name": "ipython",
    "version": 3
   },
   "file_extension": ".py",
   "mimetype": "text/x-python",
   "name": "python",
   "nbconvert_exporter": "python",
   "pygments_lexer": "ipython3",
   "version": "3.11.0"
  }
 },
 "nbformat": 4,
 "nbformat_minor": 2
}
