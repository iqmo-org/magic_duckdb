{
 "cells": [
  {
   "cell_type": "code",
   "execution_count": null,
   "metadata": {},
   "outputs": [],
   "source": [
    "%load_ext autoreload\n",
    "%autoreload 2\n",
    "\n",
    "%load_ext magic_duckdb"
   ]
  },
  {
   "cell_type": "code",
   "execution_count": null,
   "metadata": {},
   "outputs": [],
   "source": [
    "# Simple Explain\n",
    "\n",
    "r = %dql -e explain select * from (select * from range(105) t(x)) join (select * from range(10)) on true\n",
    "print(r)\n",
    "\n",
    "r = %dql -e explain_analyze_tree select * from (select * from range(105) t(x)) join (select * from range(10)) on true\n",
    "print(r)\n",
    "\n",
    "r = %dql -e explain_analyze_json select * from (select * from range(105) t(x)) join (select * from range(10)) on true\n",
    "print(r)"
   ]
  },
  {
   "cell_type": "code",
   "execution_count": null,
   "metadata": {},
   "outputs": [],
   "source": [
    "# Get the AST\n",
    "import json\n",
    "\n",
    "query = \"select * from abc, def\"\n",
    "ast_json=%dql -e ast_json --jinja2 {{query}}\n",
    "print(json.dumps(ast_json, indent=1))\n"
   ]
  },
  {
   "cell_type": "code",
   "execution_count": null,
   "metadata": {},
   "outputs": [],
   "source": [
    "%dql CREATE OR REPLACE TABLE shipment (sno int, pno int, qty int, item_name VARCHAR(32));\n",
    "%dql CREATE OR REPLACE TABLE supplier (sno int, quota int);\n",
    "%dql CREATE OR REPLACE TABLE part (pno int, amount int, part_name VARCHAR(32));\n",
    "\n",
    "\n",
    "ast_json = %dql -e ast_json SELECT * FROM part WHERE amount > (SELECT MAX(qty) FROM shipment WHERE shipment.pno = part.pno) order by part_name\n",
    "#print(json.dumps(ast_json, indent=1))\n",
    "\n",
    "ast_tree = %dql -e ast_tree SELECT * FROM part WHERE amount > (SELECT MAX(qty) FROM shipment WHERE shipment.pno = part.pno) order by part_name\n",
    "print(ast_tree)\n"
   ]
  }
 ],
 "metadata": {
  "kernelspec": {
   "display_name": "pandas2python3.11",
   "language": "python",
   "name": "python3"
  },
  "language_info": {
   "codemirror_mode": {
    "name": "ipython",
    "version": 3
   },
   "file_extension": ".py",
   "mimetype": "text/x-python",
   "name": "python",
   "nbconvert_exporter": "python",
   "pygments_lexer": "ipython3",
   "version": "3.9.16"
  }
 },
 "nbformat": 4,
 "nbformat_minor": 2
}
