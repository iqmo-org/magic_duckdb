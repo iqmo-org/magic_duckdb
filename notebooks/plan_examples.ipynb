{
 "cells": [
  {
   "cell_type": "code",
   "execution_count": null,
   "metadata": {},
   "outputs": [],
   "source": [
    "%load_ext autoreload\n",
    "%autoreload 2\n",
    "\n",
    "%load_ext magic_duckdb\n",
    "\n"
   ]
  },
  {
   "cell_type": "code",
   "execution_count": null,
   "metadata": {},
   "outputs": [],
   "source": [
    "%%dql -t df\n",
    "\n",
    "create table xyz as select * from range(10) x(b)\n",
    ";\n",
    "create table abc as select * from range(10) t(a)\n"
   ]
  },
  {
   "cell_type": "code",
   "execution_count": null,
   "metadata": {},
   "outputs": [],
   "source": [
    "%%dql -t explain_analyze_drawd2\n",
    "\n",
    "select * from abc, xyz"
   ]
  },
  {
   "cell_type": "code",
   "execution_count": null,
   "metadata": {},
   "outputs": [],
   "source": [
    "from py_d2.D2Connection import D2Connection\n",
    "from py_d2.D2Diagram import D2Diagram\n",
    "from py_d2.D2Shape import D2Shape\n",
    "from py_d2.D2Style import D2Style\n",
    "print(\"Contructing a simple graph...\")\n",
    "    shapes = [\n",
    "        D2Shape(name=\"shape_name1\", style=D2Style(fill=\"red\")),\n",
    "        D2Shape(name=\"shape_name2\", style=D2Style(fill=\"blue\")),\n",
    "    ]\n",
    "    connections = [D2Connection(shape_1=\"shape_name1\", shape_2=\"shape_name2\")]\n",
    "\n",
    "    diagram = D2Diagram(shapes=shapes, connections=connections)\n",
    "\n",
    "    print(\"Writing graph to file...\")\n",
    "    with open(\"graph.d2\", \"w\") as f:\n",
    "        f.write(str(diagram))\n",
    "        print(\"Done! (graph.d2)\")"
   ]
  }
 ],
 "metadata": {
  "kernelspec": {
   "display_name": "pandas2python3.11",
   "language": "python",
   "name": "python3"
  },
  "language_info": {
   "codemirror_mode": {
    "name": "ipython",
    "version": 3
   },
   "file_extension": ".py",
   "mimetype": "text/x-python",
   "name": "python",
   "nbconvert_exporter": "python",
   "pygments_lexer": "ipython3",
   "version": "3.11.0"
  }
 },
 "nbformat": 4,
 "nbformat_minor": 2
}
