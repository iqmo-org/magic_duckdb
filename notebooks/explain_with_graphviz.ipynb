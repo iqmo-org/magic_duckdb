{
 "cells": [
  {
   "cell_type": "markdown",
   "metadata": {},
   "source": [
    "Generates a GraphViz diagram from DuckDB Explain Analyze output. \n",
    "\n",
    "When %dql or %%dql is executed with the `explain analyze_draw` option:\n",
    "1. `PRAGMA enable_profiling=json` is executed\n",
    "2. A relation is created with: `r = connection.sql(query)`\n",
    "3. r.explain(type=\"analyze\") is called, which returns the JSON description of the Explain Analyze\n",
    "4. The JSON tree is converted to [dot](https://graphviz.org/doc/info/lang.html)\n",
    "5. The resulting dot is passed to the GraphViz dot executable\n",
    "6. The resulting jpg is displayed in the notebook\n",
    "\n",
    "Prerequisites:\n",
    "- magic_duckdb (this library)\n",
    "- DuckDB 0.8.0 or Higher: For the JSON option\n",
    "- Python Graphviz Library: This is a thin wrapper around GraphViz itself. This is a convenience to create dot files. \n",
    "- GraphViz: https://graphviz.org/download/\n",
    "\n",
    "Note:\n",
    "pip install graphviz does *not* install GraphViz, merely the wrapper library. "
   ]
  },
  {
   "cell_type": "code",
   "execution_count": null,
   "metadata": {},
   "outputs": [],
   "source": [
    "%load_ext magic_duckdb"
   ]
  },
  {
   "cell_type": "code",
   "execution_count": null,
   "metadata": {},
   "outputs": [],
   "source": [
    "import graphviz\n",
    "import pathlib\n",
    "\n",
    "# This is optional, if it's in your PATH\n",
    "graphviz.backend.dot_command.DOT_BINARY = pathlib.Path(\"c:\\\\Program files\\\\graphviz\\\\bin\\\\dot\")  # type: ignore # noqa\n"
   ]
  },
  {
   "cell_type": "code",
   "execution_count": null,
   "metadata": {},
   "outputs": [],
   "source": [
    "# Draw the Explain Analyze\n",
    "\n",
    "query = \"select * from (select * from range(105) t(x)) join (select * from range(10)) on true\"\n",
    "\n",
    "import magic_duckdb\n",
    "# magic_duckdb.extras.explain_analyze_graphviz.dot_path= \"c:\\\\Program files\\\\graphviz\\\\bin\\\\dot.exe\"\n",
    "import graphviz\n",
    "graphviz.set_jupyter_format('png')\n",
    "\n",
    "r = %dql --jinja2 -e explain_analyze_draw {{query}}\n",
    "display(r)"
   ]
  },
  {
   "cell_type": "code",
   "execution_count": null,
   "metadata": {},
   "outputs": [],
   "source": [
    "%%dql -e explain_analyze_draw\n",
    "\n",
    "-- As a cell magic\n",
    "\n",
    "select * from range(10)"
   ]
  },
  {
   "cell_type": "code",
   "execution_count": null,
   "metadata": {},
   "outputs": [],
   "source": [
    "# In Code, no magics\n",
    "\n",
    "import duckdb\n",
    "from magic_duckdb.duckdb_mode import DuckDbMode\n",
    "\n",
    "ddm = DuckDbMode()\n",
    "\n",
    "with duckdb.connect() as con:\n",
    "    dot = ddm.execute(connection = con, query_string=\"select * from range(10) join (select * from range(5)) on true\", explain_function=\"explain_analyze_draw\")\n",
    "    display(dot)"
   ]
  }
 ],
 "metadata": {
  "kernelspec": {
   "display_name": "Python 3",
   "language": "python",
   "name": "python3"
  },
  "language_info": {
   "codemirror_mode": {
    "name": "ipython",
    "version": 3
   },
   "file_extension": ".py",
   "mimetype": "text/x-python",
   "name": "python",
   "nbconvert_exporter": "python",
   "pygments_lexer": "ipython3",
   "version": "3.9.16"
  }
 },
 "nbformat": 4,
 "nbformat_minor": 2
}
