{
 "cells": [
  {
   "cell_type": "code",
   "execution_count": null,
   "metadata": {},
   "outputs": [],
   "source": [
    "import graphviz\n",
    "import pathlib\n",
    "%load_ext magic_duckdb\n",
    "# Uncomment and replace with the path to your graphviz install, if \"dot\" is not in your path.\n",
    "\n",
    "graphviz.backend.dot_command.DOT_BINARY = pathlib.Path(\"c:\\\\Program files\\\\graphviz\\\\bin\\\\dot\")  # type: ignore # noqa\n",
    "# graphviz.set_jupyter_format('png')"
   ]
  },
  {
   "cell_type": "code",
   "execution_count": null,
   "metadata": {},
   "outputs": [],
   "source": [
    "# Draw the Explain Analyze\n",
    "\n",
    "query = \"select * from (select * from range(105) t(x)) join (select * from range(10)) on true\"\n",
    "\n",
    "import magic_duckdb\n",
    "# magic_duckdb.extras.explain_analyze_graphviz.dot_path= \"c:\\\\Program files\\\\graphviz\\\\bin\\\\dot.exe\"\n",
    "import graphviz\n",
    "graphviz.set_jupyter_format('png')\n",
    "\n",
    "r = %dql --jinja2 -e explain_analyze_draw {{query}}\n",
    "display(r)\n",
    "\n"
   ]
  }
 ],
 "metadata": {
  "kernelspec": {
   "display_name": "Python 3",
   "language": "python",
   "name": "python3"
  },
  "language_info": {
   "codemirror_mode": {
    "name": "ipython",
    "version": 3
   },
   "file_extension": ".py",
   "mimetype": "text/x-python",
   "name": "python",
   "nbconvert_exporter": "python",
   "pygments_lexer": "ipython3",
   "version": "3.9.16"
  }
 },
 "nbformat": 4,
 "nbformat_minor": 2
}
