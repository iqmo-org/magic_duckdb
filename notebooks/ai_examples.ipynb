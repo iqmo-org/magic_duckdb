{
 "cells": [
  {
   "cell_type": "code",
   "execution_count": null,
   "metadata": {},
   "outputs": [],
   "source": [
    "%load_ext autoreload\n",
    "%autoreload 2\n",
    "\n",
    "%load_ext magic_duckdb\n",
    "\n"
   ]
  },
  {
   "cell_type": "code",
   "execution_count": null,
   "metadata": {},
   "outputs": [],
   "source": [
    "# Optional: uses keys.ini to load openai_key. You can also just set it directly.\n",
    "\n",
    "\"\"\"Optional: Use a keys.ini file\"\"\"\n",
    "import configparser\n",
    "import os\n",
    "import magic_duckdb\n",
    "from magic_duckdb.extras import sql_ai\n",
    "\n",
    "keyfile = f\"{os.path.dirname(magic_duckdb.__file__)}/keys.ini\"\n",
    "\n",
    "keys = configparser.ConfigParser()\n",
    "keys.read(keyfile)\n",
    "\n",
    "openai_key = keys.get(\"keys\", \"OPENAI_KEY\", fallback=None) # type: ignore\n",
    "\n",
    "if openai_key is None:\n",
    "    print(f\"No OPENAI_KEY in {keyfile}\")\n",
    "sql_ai.OPENAI_KEY = openai_key\n",
    "sql_ai.print_prompts = True"
   ]
  },
  {
   "cell_type": "code",
   "execution_count": null,
   "metadata": {},
   "outputs": [],
   "source": [
    "%%dql\n",
    "CREATE OR REPLACE TABLE xyz as SELECT concat('', x) from range(100) t(x);\n",
    "CREATE OR REPLACE TABLE abc as SELECT * from range(50) y(a);"
   ]
  },
  {
   "cell_type": "code",
   "execution_count": null,
   "metadata": {},
   "outputs": [],
   "source": [
    "%%dql -aichat write a duckdb query\n",
    "\n",
    " windowed cumulative \n",
    "sum of xyz where value is in abc"
   ]
  },
  {
   "cell_type": "code",
   "execution_count": null,
   "metadata": {},
   "outputs": [],
   "source": [
    "%%dql -aichat why is this query so slow? \n",
    "\n",
    "select * from range(1000000000000) full outer join select * from range(100000000)"
   ]
  },
  {
   "cell_type": "code",
   "execution_count": null,
   "metadata": {},
   "outputs": [],
   "source": [
    "%%dql -aichat reformat this query using sql formatting standards\n",
    "\n",
    "select * from range(1000000000000) full outer join select * from range(100000000)"
   ]
  },
  {
   "cell_type": "code",
   "execution_count": null,
   "metadata": {},
   "outputs": [],
   "source": [
    "# Testing outside the magics\n",
    "import duckdb\n",
    "from magic_duckdb.extras import sql_ai\n",
    "\n",
    "con = duckdb.connect()\n",
    "\n",
    "sql_ai.print_prompts=True\n",
    "con.execute(\"create table xyz as select * from range(100) t(x)\")\n",
    "con.execute(\"create table abc as select * from range(100) y(a)\")\n",
    "\n",
    "r = sql_ai.ai_statement(connection=con, prompt=\"suggest\", statement=\"a query that combines results from all tables\")\n",
    "print(r)\n",
    "\n",
    "r = sql_ai.ai_statement(connection=con, prompt=\"fix using existing tables and reformat according to SQL Formatting Standard with capital letters and newlines but no trailing slashes\", statement=\"selct cont(*) frm x join a \")\n",
    "print(r)"
   ]
  },
  {
   "cell_type": "code",
   "execution_count": null,
   "metadata": {},
   "outputs": [],
   "source": [
    "%%dql -aichat\n",
    "\n",
    "create a table containing firstnames and birthdays for children in highschool and compute the average age"
   ]
  }
 ],
 "metadata": {
  "kernelspec": {
   "display_name": "pandas2python3.11",
   "language": "python",
   "name": "python3"
  },
  "language_info": {
   "codemirror_mode": {
    "name": "ipython",
    "version": 3
   },
   "file_extension": ".py",
   "mimetype": "text/x-python",
   "name": "python",
   "nbconvert_exporter": "python",
   "pygments_lexer": "ipython3",
   "version": "3.11.8"
  }
 },
 "nbformat": 4,
 "nbformat_minor": 2
}
