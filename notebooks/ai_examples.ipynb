{
 "cells": [
  {
   "cell_type": "code",
   "execution_count": null,
   "metadata": {},
   "outputs": [],
   "source": [
    "%load_ext autoreload\n",
    "%autoreload 2\n",
    "\n",
    "%load_ext magic_duckdb\n"
   ]
  },
  {
   "cell_type": "code",
   "execution_count": null,
   "metadata": {},
   "outputs": [],
   "source": [
    "# Optional: uses keys.ini to load openai_key. You can also just set it directly.\n",
    "\n",
    "\"\"\"Optional: Use a keys.ini file\"\"\"\n",
    "import configparser\n",
    "import os\n",
    "import magic_duckdb\n",
    "from magic_duckdb.extras import sql_ai\n",
    "\n",
    "keyfile = f\"{os.path.dirname(magic_duckdb.__file__)}/keys.ini\"\n",
    "\n",
    "keys = configparser.ConfigParser()\n",
    "keys.read(keyfile)\n",
    "\n",
    "openai_key = keys.get(\"keys\", \"OPENAI_KEY\", fallback=None) # type: ignore\n",
    "\n",
    "sql_ai.openai_key = openai_key\n",
    "sql_ai.print_prompts = True\n"
   ]
  },
  {
   "cell_type": "code",
   "execution_count": null,
   "metadata": {},
   "outputs": [],
   "source": [
    "%%dql\n",
    "CREATE OR REPLACE TABLE xyz as SELECT * from range(100) t(x);\n",
    "CREATE OR REPLACE TABLE abc as SELECT * from range(50) y(a);"
   ]
  },
  {
   "cell_type": "code",
   "execution_count": null,
   "metadata": {},
   "outputs": [],
   "source": [
    "%%dql -ai write my sql\n",
    "\n",
    "select the combined sum of numbers from both tables, odd sums only"
   ]
  },
  {
   "cell_type": "code",
   "execution_count": null,
   "metadata": {},
   "outputs": [],
   "source": [
    "%%dql -aichat write my sql\n",
    "\n",
    "select cumulative product of x using a window function"
   ]
  },
  {
   "cell_type": "code",
   "execution_count": null,
   "metadata": {},
   "outputs": [],
   "source": [
    "# Testing outside the magics\n",
    "import duckdb\n",
    "from magic_duckdb.extras import sql_ai\n",
    "\n",
    "con = duckdb.connect()\n",
    "\n",
    "con.execute(\"create table xyz as select * from range(100) t(x)\")\n",
    "con.execute(\"create table abc as select * from range(100) y(a)\")\n",
    "\n",
    "r = sql_ai.fix_statement(connection=con, command=\"suggest\", statement=\"a query that combines results from all tables\")\n",
    "print(r)\n",
    "\n",
    "r = sql_ai.fix_statement(connection=con, command=\"fix using existing tables and reformat according to SQL Formatting Standard with capital letters and newlines but no trailing slashes\", statement=\"selct cont(*) frm x join a \")\n",
    "print(r)"
   ]
  }
 ],
 "metadata": {
  "kernelspec": {
   "display_name": "pandas2python3.11",
   "language": "python",
   "name": "python3"
  },
  "language_info": {
   "codemirror_mode": {
    "name": "ipython",
    "version": 3
   },
   "file_extension": ".py",
   "mimetype": "text/x-python",
   "name": "python",
   "nbconvert_exporter": "python",
   "pygments_lexer": "ipython3",
   "version": "3.11.0"
  }
 },
 "nbformat": 4,
 "nbformat_minor": 2
}
